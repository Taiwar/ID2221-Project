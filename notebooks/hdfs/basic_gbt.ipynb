{
 "cells": [
  {
   "cell_type": "code",
   "metadata": {
    "ExecuteTime": {
     "end_time": "2024-10-11T13:46:59.474812Z",
     "start_time": "2024-10-11T13:46:59.135115Z"
    }
   },
   "source": [
    "from pyspark.sql import SparkSession\n",
    "from pyspark.sql import functions as F\n",
    "from pyspark.ml.feature import StringIndexer, OneHotEncoder, VectorAssembler\n",
    "from pyspark.ml.classification import GBTClassifier\n",
    "from pyspark.ml.evaluation import MulticlassClassificationEvaluator\n",
    "from pyspark.ml import Pipeline\n",
    "\n",
    "import matplotlib.pyplot as plt\n",
    "import seaborn as sns\n",
    "from sklearn.metrics import roc_curve, auc\n"
   ],
   "outputs": [],
   "execution_count": 3
  },
  {
   "cell_type": "markdown",
   "metadata": {},
   "source": [
    "# 1. Create spark session"
   ]
  },
  {
   "cell_type": "code",
   "metadata": {
    "ExecuteTime": {
     "end_time": "2024-10-11T13:47:02.901643Z",
     "start_time": "2024-10-11T13:47:00.791063Z"
    }
   },
   "source": [
    "spark = SparkSession.builder.appName(\"GBTClassifierExample\").getOrCreate()"
   ],
   "outputs": [],
   "execution_count": 4
  },
  {
   "metadata": {},
   "cell_type": "markdown",
   "source": "# 2. Load data"
  },
  {
   "metadata": {
    "ExecuteTime": {
     "end_time": "2024-10-11T13:48:10.343553Z",
     "start_time": "2024-10-11T13:48:10.243196Z"
    }
   },
   "cell_type": "code",
   "source": [
    "local_path = \"work/data/Base.csv\"\n",
    "hdfs_path = \"hdfs://namenode:8020/data/Base.parquet\"\n",
    "\n",
    "try:\n",
    "    df = spark.read.parquet(hdfs_path)\n",
    "    print(\"Data already in HDFS\")\n",
    "except:\n",
    "    print(\"Data not in HDFS → Storing data in HDFS\")\n",
    "    tmp_df = spark.read.csv(local_path, header=True, inferSchema=True)\n",
    "    tmp_df.write.parquet(hdfs_path)\n",
    "    df = spark.read.parquet(hdfs_path)"
   ],
   "outputs": [
    {
     "name": "stdout",
     "output_type": "stream",
     "text": [
      "Data already in HDFS\n"
     ]
    }
   ],
   "execution_count": 7
  },
  {
   "cell_type": "markdown",
   "metadata": {},
   "source": [
    "# 3. Remove not needed features\n",
    "From EDA we saw that we should remove: 'device_fraud_count'"
   ]
  },
  {
   "cell_type": "code",
   "metadata": {
    "ExecuteTime": {
     "end_time": "2024-10-11T13:48:19.918581Z",
     "start_time": "2024-10-11T13:48:19.882766Z"
    }
   },
   "source": [
    "df = df.drop(\"device_fraud_count\")"
   ],
   "outputs": [],
   "execution_count": 8
  },
  {
   "cell_type": "markdown",
   "metadata": {},
   "source": [
    "# 3. Address class imbalance"
   ]
  },
  {
   "cell_type": "code",
   "metadata": {
    "ExecuteTime": {
     "end_time": "2024-10-11T13:48:23.741992Z",
     "start_time": "2024-10-11T13:48:22.071941Z"
    }
   },
   "source": [
    "# calculate the class distribution\n",
    "fraud_count = df.filter(df.fraud_bool == 1).count()\n",
    "no_fraud_count = df.filter(df.fraud_bool == 0).count()\n",
    "\n",
    "total_count = fraud_count + no_fraud_count\n",
    "fraud_weight = total_count / (2.0 * fraud_count)  # minority class (fraud)\n",
    "legit_weight = total_count / (2.0 * no_fraud_count)  # majority class (legit)\n",
    "\n",
    "# create a weight column\n",
    "df = df.withColumn(\"class_weight\", F.when(df.fraud_bool == 1, fraud_weight).otherwise(legit_weight))\n"
   ],
   "outputs": [],
   "execution_count": 9
  },
  {
   "cell_type": "markdown",
   "metadata": {},
   "source": [
    "# 4. One-hot encoding\n",
    "From EDA we already know which features are cat and which ones are num. Now, from the cat, we will only one-hot encode the ones that are not binary. These are: ['payment_type', 'employment_status', 'housing_status', 'source', 'device_os']"
   ]
  },
  {
   "cell_type": "code",
   "metadata": {
    "ExecuteTime": {
     "end_time": "2024-10-11T13:48:26.050534Z",
     "start_time": "2024-10-11T13:48:26.047085Z"
    }
   },
   "source": [
    "cat_features = ['payment_type',\n",
    "'employment_status',\n",
    "'housing_status',\n",
    "'source',\n",
    "'device_os',\n",
    "'keep_alive_session',\n",
    "'foreign_request',\n",
    "'has_other_cards',\n",
    "'phone_mobile_valid',\n",
    "'phone_home_valid',\n",
    "'email_is_free',\n",
    "'customer_age']\n",
    "\n",
    "one_hot_features = ['payment_type', \n",
    "'employment_status', \n",
    "'housing_status', \n",
    "'source', \n",
    "'device_os']\n",
    "\n",
    "num_features = ['income',\n",
    "'name_email_similarity',\n",
    "'prev_address_months_count',\n",
    "'current_address_months_count',\n",
    "'days_since_request',\n",
    "'intended_balcon_amount',\n",
    "'zip_count_4w',\n",
    "'velocity_6h',\n",
    "'velocity_24h',\n",
    "'velocity_4w',\n",
    "'bank_branch_count_8w',\n",
    "'date_of_birth_distinct_emails_4w',\n",
    "'credit_risk_score',\n",
    "'bank_months_count',\n",
    "'proposed_credit_limit',\n",
    "'session_length_in_minutes',\n",
    "'device_distinct_emails_8w',\n",
    "'month']"
   ],
   "outputs": [],
   "execution_count": 10
  },
  {
   "cell_type": "code",
   "metadata": {
    "ExecuteTime": {
     "end_time": "2024-10-11T13:48:29.151065Z",
     "start_time": "2024-10-11T13:48:29.117155Z"
    }
   },
   "source": [
    "indexers = [StringIndexer(inputCol=col, outputCol=col + \"_index\") for col in one_hot_features]\n",
    "encoders = [OneHotEncoder(inputCol=col + \"_index\", outputCol=col + \"_encoded\") for col in one_hot_features]\n",
    "encoded_cols = [col + \"_encoded\" for col in one_hot_features]\n",
    "\n",
    "# assemble all the features into a single feature vector\n",
    "assembler = VectorAssembler(inputCols=num_features + encoded_cols, outputCol=\"features\")\n"
   ],
   "outputs": [],
   "execution_count": 11
  },
  {
   "cell_type": "markdown",
   "metadata": {},
   "source": [
    "# 4. Training\n",
    "Define model, split data, create pipeline and fit the model. "
   ]
  },
  {
   "cell_type": "code",
   "metadata": {
    "ExecuteTime": {
     "end_time": "2024-10-11T13:48:55.446147Z",
     "start_time": "2024-10-11T13:48:31.048187Z"
    }
   },
   "source": [
    "gbt = GBTClassifier(labelCol=\"fraud_bool\", weightCol=\"class_weight\", featuresCol=\"features\", maxIter=10)\n",
    "train_df, test_df = df.randomSplit([0.9, 0.1], seed=42) # same split and seed as in EDA \n",
    "pipeline = Pipeline(stages=indexers + encoders + [assembler, gbt])\n",
    "gbt_model = pipeline.fit(train_df)"
   ],
   "outputs": [],
   "execution_count": 12
  },
  {
   "cell_type": "markdown",
   "metadata": {},
   "source": [
    "# 5. Evaluation"
   ]
  },
  {
   "cell_type": "code",
   "metadata": {
    "ExecuteTime": {
     "end_time": "2024-10-11T13:49:03.377686Z",
     "start_time": "2024-10-11T13:49:03.160859Z"
    }
   },
   "source": [
    "predictions = gbt_model.transform(test_df)"
   ],
   "outputs": [],
   "execution_count": 13
  },
  {
   "cell_type": "markdown",
   "metadata": {},
   "source": [
    "## 5.1. AUC\n"
   ]
  },
  {
   "cell_type": "code",
   "metadata": {
    "ExecuteTime": {
     "end_time": "2024-10-11T13:49:10.342608Z",
     "start_time": "2024-10-11T13:49:06.500961Z"
    }
   },
   "source": [
    "# extract true labels and predicted probabilities\n",
    "predictions_pd = predictions.select(\"fraud_bool\", \"probability\").toPandas()\n",
    "predictions_pd[\"probability_class_1\"] = predictions_pd[\"probability\"].apply(lambda x: x[1])\n",
    "\n",
    "# compute the ROC curve and AUC\n",
    "fpr, tpr, thresholds = roc_curve(predictions_pd[\"fraud_bool\"], predictions_pd[\"probability_class_1\"])\n",
    "roc_auc = auc(fpr, tpr)\n",
    "\n",
    "# plot \n",
    "plt.figure(figsize=(8, 6))\n",
    "plt.plot(fpr, tpr, color='darkorange', lw=2, label=f'AUC = {roc_auc:.2f}')\n",
    "plt.plot([0, 1], [0, 1], color='navy', lw=2, linestyle='--')\n",
    "plt.xlim([0.0, 1.0])\n",
    "plt.ylim([0.0, 1.05])\n",
    "plt.xlabel('False positive rate')\n",
    "plt.ylabel('True positive rate')\n",
    "plt.title('ROC Curve')\n",
    "plt.legend(loc=\"lower right\")\n",
    "plt.show()"
   ],
   "outputs": [
    {
     "data": {
      "text/plain": [
       "<Figure size 800x600 with 1 Axes>"
      ],
      "image/png": "[encoded data removed]"
     },
     "metadata": {},
     "output_type": "display_data"
    }
   ],
   "execution_count": 14
  },
  {
   "cell_type": "markdown",
   "metadata": {},
   "source": [
    "## 5.2. Precision, Recall and F1"
   ]
  },
  {
   "cell_type": "code",
   "metadata": {
    "ExecuteTime": {
     "end_time": "2024-10-11T13:49:26.024866Z",
     "start_time": "2024-10-11T13:49:22.973990Z"
    }
   },
   "source": [
    "# BinaryClassificationEvaluator only suppors AUC and PR, so to calculate these other metrics, need to do it as follows:\n",
    "\n",
    "precision_evaluator = MulticlassClassificationEvaluator(labelCol=\"fraud_bool\", predictionCol=\"prediction\", metricName=\"precisionByLabel\")\n",
    "recall_evaluator = MulticlassClassificationEvaluator(labelCol=\"fraud_bool\", predictionCol=\"prediction\", metricName=\"recallByLabel\")\n",
    "f1_evaluator = MulticlassClassificationEvaluator(labelCol=\"fraud_bool\", predictionCol=\"prediction\", metricName=\"f1\")\n",
    "\n",
    "precision = precision_evaluator.evaluate(predictions)\n",
    "recall = recall_evaluator.evaluate(predictions)\n",
    "f1 = f1_evaluator.evaluate(predictions)\n",
    "\n",
    "print(f\"Precision: {precision}\")\n",
    "print(f\"Recall: {recall}\")\n",
    "print(f\"F1-Score: {f1}\")"
   ],
   "outputs": [
    {
     "name": "stdout",
     "output_type": "stream",
     "text": [
      "Precision: 0.9962477525601272\n",
      "Recall: 0.7719549745091111\n",
      "F1-Score: 0.8607954393072155\n"
     ]
    }
   ],
   "execution_count": 15
  },
  {
   "cell_type": "markdown",
   "metadata": {},
   "source": [
    "## 5.3. Confusion matrix"
   ]
  },
  {
   "cell_type": "code",
   "metadata": {
    "ExecuteTime": {
     "end_time": "2024-10-11T13:49:36.867869Z",
     "start_time": "2024-10-11T13:49:34.814044Z"
    }
   },
   "source": [
    "confusion_matrix = predictions.groupBy(\"fraud_bool\", \"prediction\").count()\n",
    "confusion_matrix_pd = confusion_matrix.toPandas()\n",
    "confusion_matrix_pivot = confusion_matrix_pd.pivot(index='fraud_bool', columns='prediction', values='count').fillna(0) # create the 2D matrix required by Seaborn\n",
    "\n",
    "plt.figure(figsize=(8, 6))\n",
    "sns.heatmap(confusion_matrix_pivot, annot=True, fmt=\"d\", cmap=\"Blues\", cbar=False, \n",
    "            xticklabels=['Predicted 0', 'Predicted 1'], \n",
    "            yticklabels=['Actual 0', 'Actual 1'])\n",
    "plt.title(\"Confusion Matrix\")\n",
    "plt.ylabel(\"True Label\")\n",
    "plt.xlabel(\"Predicted Label\")\n",
    "plt.show()"
   ],
   "outputs": [
    {
     "data": {
      "text/plain": [
       "<Figure size 800x600 with 1 Axes>"
      ],
      "image/png": "[encoded data removed]"
     },
     "metadata": {},
     "output_type": "display_data"
    }
   ],
   "execution_count": 16
  },
  {
   "cell_type": "markdown",
   "metadata": {},
   "source": [
    "## 5.4. Example of predictions"
   ]
  },
  {
   "cell_type": "code",
   "metadata": {
    "ExecuteTime": {
     "end_time": "2024-10-11T13:49:42.097900Z",
     "start_time": "2024-10-11T13:49:41.677159Z"
    }
   },
   "source": [
    "predictions.select(\"fraud_bool\", \"prediction\", \"probability\").show(10, truncate=False)\n"
   ],
   "outputs": [
    {
     "name": "stdout",
     "output_type": "stream",
     "text": [
      "+----------+----------+----------------------------------------+\n",
      "|fraud_bool|prediction|probability                             |\n",
      "+----------+----------+----------------------------------------+\n",
      "|0         |0.0       |[0.7885723801238006,0.2114276198761994] |\n",
      "|0         |1.0       |[0.4955645025807727,0.5044354974192273] |\n",
      "|0         |1.0       |[0.2430976345645278,0.7569023654354722] |\n",
      "|0         |1.0       |[0.4123258702997263,0.5876741297002737] |\n",
      "|0         |0.0       |[0.8342969499184659,0.16570305008153408]|\n",
      "|0         |0.0       |[0.8456121675236649,0.15438783247633514]|\n",
      "|0         |0.0       |[0.7249387668500489,0.2750612331499511] |\n",
      "|0         |0.0       |[0.8184051818195389,0.18159481818046108]|\n",
      "|0         |0.0       |[0.8979744256240226,0.10202557437597737]|\n",
      "|0         |1.0       |[0.3932941537354641,0.6067058462645358] |\n",
      "+----------+----------+----------------------------------------+\n",
      "only showing top 10 rows\n",
      "\n"
     ]
    }
   ],
   "execution_count": 17
  }
 ],
 "metadata": {
  "kernelspec": {
   "display_name": "data_intesive_comp",
   "language": "python",
   "name": "python3"
  },
  "language_info": {
   "codemirror_mode": {
    "name": "ipython",
    "version": 3
   },
   "file_extension": ".py",
   "mimetype": "text/x-python",
   "name": "python",
   "nbconvert_exporter": "python",
   "pygments_lexer": "ipython3",
   "version": "3.12.4"
  }
 },
 "nbformat": 4,
 "nbformat_minor": 2
}
