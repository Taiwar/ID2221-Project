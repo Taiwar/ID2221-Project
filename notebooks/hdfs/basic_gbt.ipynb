{
 "cells": [
  {
   "cell_type": "code",
   "metadata": {
    "ExecuteTime": {
     "end_time": "2024-10-11T15:48:13.858238Z",
     "start_time": "2024-10-11T15:48:13.309465Z"
    }
   },
   "source": [
    "from pyspark.sql import SparkSession\n",
    "from pyspark.sql import functions as F\n",
    "from pyspark.ml.feature import StringIndexer, OneHotEncoder, VectorAssembler\n",
    "from pyspark.ml.classification import GBTClassifier\n",
    "from pyspark.ml.evaluation import MulticlassClassificationEvaluator\n",
    "from pyspark.ml import Pipeline\n",
    "\n",
    "import matplotlib.pyplot as plt\n",
    "import seaborn as sns\n",
    "from sklearn.metrics import roc_curve, auc\n"
   ],
   "outputs": [],
   "execution_count": 1
  },
  {
   "cell_type": "markdown",
   "metadata": {},
   "source": [
    "# 1. Create spark session"
   ]
  },
  {
   "cell_type": "code",
   "metadata": {
    "ExecuteTime": {
     "end_time": "2024-10-11T15:48:17.362400Z",
     "start_time": "2024-10-11T15:48:13.867135Z"
    }
   },
   "source": [
    "# Note: This may take some time on first startup to install all the dependencies\n",
    "catalog_key = \"resultcatalog\"\n",
    "spark = SparkSession.builder \\\n",
    "    .appName(\"GBTClassifierExample\") \\\n",
    "    .config(\"spark.jars.packages\", \"com.datastax.spark:spark-cassandra-connector_2.12:3.5.1\") \\\n",
    "    .config('spark.cassandra.connection.host', 'cassandra') \\\n",
    "    .config('spark.cassandra.connection.port', '9042') \\\n",
    "    .config('spark.cassandra.output.consistency.level','ONE') \\\n",
    "    .config(f'spark.sql.catalog.{catalog_key}', 'com.datastax.spark.connector.datasource.CassandraCatalog') \\\n",
    "    .config(\"spark.sql.catalogImplementation\", \"hive\") \\\n",
    "    .enableHiveSupport() \\\n",
    "    .getOrCreate()"
   ],
   "outputs": [],
   "execution_count": 2
  },
  {
   "metadata": {},
   "cell_type": "markdown",
   "source": "# 2. Load data"
  },
  {
   "metadata": {
    "ExecuteTime": {
     "end_time": "2024-10-11T15:48:19.612321Z",
     "start_time": "2024-10-11T15:48:17.592406Z"
    }
   },
   "cell_type": "code",
   "source": [
    "local_path = \"../data/Base.csv\"\n",
    "hdfs_path = \"hdfs://namenode:8020/data/Base.parquet\"\n",
    "\n",
    "try:\n",
    "    df = spark.read.parquet(hdfs_path)\n",
    "    print(\"Data already in HDFS\")\n",
    "except:\n",
    "    print(\"Data not in HDFS → Storing data in HDFS\")\n",
    "    tmp_df = spark.read.csv(local_path, header=True, inferSchema=True)\n",
    "    tmp_df.write.parquet(hdfs_path)\n",
    "    df = spark.read.parquet(hdfs_path)"
   ],
   "outputs": [
    {
     "name": "stdout",
     "output_type": "stream",
     "text": [
      "Data already in HDFS\n"
     ]
    }
   ],
   "execution_count": 3
  },
  {
   "cell_type": "markdown",
   "metadata": {},
   "source": [
    "# 3. Remove not needed features\n",
    "From EDA we saw that we should remove: 'device_fraud_count'"
   ]
  },
  {
   "cell_type": "code",
   "metadata": {
    "ExecuteTime": {
     "end_time": "2024-10-11T15:48:19.736714Z",
     "start_time": "2024-10-11T15:48:19.689528Z"
    }
   },
   "source": [
    "df = df.drop(\"device_fraud_count\")"
   ],
   "outputs": [],
   "execution_count": 4
  },
  {
   "cell_type": "markdown",
   "metadata": {},
   "source": [
    "# 3. Address class imbalance"
   ]
  },
  {
   "cell_type": "code",
   "metadata": {
    "ExecuteTime": {
     "end_time": "2024-10-11T15:48:21.608148Z",
     "start_time": "2024-10-11T15:48:19.755145Z"
    }
   },
   "source": [
    "# calculate the class distribution\n",
    "fraud_count = df.filter(df.fraud_bool == 1).count()\n",
    "no_fraud_count = df.filter(df.fraud_bool == 0).count()\n",
    "\n",
    "total_count = fraud_count + no_fraud_count\n",
    "fraud_weight = total_count / (2.0 * fraud_count)  # minority class (fraud)\n",
    "legit_weight = total_count / (2.0 * no_fraud_count)  # majority class (legit)\n",
    "\n",
    "# create a weight column\n",
    "df = df.withColumn(\"class_weight\", F.when(df.fraud_bool == 1, fraud_weight).otherwise(legit_weight))\n"
   ],
   "outputs": [],
   "execution_count": 5
  },
  {
   "cell_type": "markdown",
   "metadata": {},
   "source": [
    "# 4. One-hot encoding\n",
    "From EDA we already know which features are cat and which ones are num. Now, from the cat, we will only one-hot encode the ones that are not binary. These are: ['payment_type', 'employment_status', 'housing_status', 'source', 'device_os']"
   ]
  },
  {
   "cell_type": "code",
   "metadata": {
    "ExecuteTime": {
     "end_time": "2024-10-11T15:48:21.632155Z",
     "start_time": "2024-10-11T15:48:21.628896Z"
    }
   },
   "source": [
    "cat_features = ['payment_type',\n",
    "'employment_status',\n",
    "'housing_status',\n",
    "'source',\n",
    "'device_os',\n",
    "'keep_alive_session',\n",
    "'foreign_request',\n",
    "'has_other_cards',\n",
    "'phone_mobile_valid',\n",
    "'phone_home_valid',\n",
    "'email_is_free',\n",
    "'customer_age']\n",
    "\n",
    "one_hot_features = ['payment_type', \n",
    "'employment_status', \n",
    "'housing_status', \n",
    "'source', \n",
    "'device_os']\n",
    "\n",
    "num_features = ['income',\n",
    "'name_email_similarity',\n",
    "'prev_address_months_count',\n",
    "'current_address_months_count',\n",
    "'days_since_request',\n",
    "'intended_balcon_amount',\n",
    "'zip_count_4w',\n",
    "'velocity_6h',\n",
    "'velocity_24h',\n",
    "'velocity_4w',\n",
    "'bank_branch_count_8w',\n",
    "'date_of_birth_distinct_emails_4w',\n",
    "'credit_risk_score',\n",
    "'bank_months_count',\n",
    "'proposed_credit_limit',\n",
    "'session_length_in_minutes',\n",
    "'device_distinct_emails_8w',\n",
    "'month']"
   ],
   "outputs": [],
   "execution_count": 6
  },
  {
   "cell_type": "code",
   "metadata": {
    "ExecuteTime": {
     "end_time": "2024-10-11T15:48:21.768289Z",
     "start_time": "2024-10-11T15:48:21.722357Z"
    }
   },
   "source": [
    "indexers = [StringIndexer(inputCol=col, outputCol=col + \"_index\") for col in one_hot_features]\n",
    "encoders = [OneHotEncoder(inputCol=col + \"_index\", outputCol=col + \"_encoded\") for col in one_hot_features]\n",
    "encoded_cols = [col + \"_encoded\" for col in one_hot_features]\n",
    "\n",
    "# assemble all the features into a single feature vector\n",
    "assembler = VectorAssembler(inputCols=num_features + encoded_cols, outputCol=\"features\")\n"
   ],
   "outputs": [],
   "execution_count": 7
  },
  {
   "cell_type": "markdown",
   "metadata": {},
   "source": [
    "# 4. Training\n",
    "Define model, split data, create pipeline and fit the model. "
   ]
  },
  {
   "cell_type": "code",
   "metadata": {
    "ExecuteTime": {
     "end_time": "2024-10-11T15:48:43.825521Z",
     "start_time": "2024-10-11T15:48:21.787753Z"
    }
   },
   "source": [
    "gbt = GBTClassifier(labelCol=\"fraud_bool\", weightCol=\"class_weight\", featuresCol=\"features\", maxIter=10)\n",
    "train_df, test_df = df.randomSplit([0.9, 0.1], seed=42) # same split and seed as in EDA \n",
    "pipeline = Pipeline(stages=indexers + encoders + [assembler, gbt])\n",
    "gbt_model = pipeline.fit(train_df)"
   ],
   "outputs": [],
   "execution_count": 8
  },
  {
   "cell_type": "markdown",
   "metadata": {},
   "source": [
    "# 5. Evaluation"
   ]
  },
  {
   "cell_type": "code",
   "metadata": {
    "ExecuteTime": {
     "end_time": "2024-10-11T15:48:44.143245Z",
     "start_time": "2024-10-11T15:48:43.847531Z"
    }
   },
   "source": [
    "predictions = gbt_model.transform(test_df)"
   ],
   "outputs": [],
   "execution_count": 9
  },
  {
   "cell_type": "markdown",
   "metadata": {},
   "source": [
    "## 5.1. AUC\n"
   ]
  },
  {
   "cell_type": "code",
   "metadata": {
    "ExecuteTime": {
     "end_time": "2024-10-11T15:48:46.861463Z",
     "start_time": "2024-10-11T15:48:44.164007Z"
    }
   },
   "source": [
    "# extract true labels and predicted probabilities\n",
    "predictions_pd = predictions.select(\"fraud_bool\", \"probability\").toPandas()\n",
    "predictions_pd[\"probability_class_1\"] = predictions_pd[\"probability\"].apply(lambda x: x[1])\n",
    "\n",
    "# compute the ROC curve and AUC\n",
    "fpr, tpr, thresholds = roc_curve(predictions_pd[\"fraud_bool\"], predictions_pd[\"probability_class_1\"])\n",
    "roc_auc = auc(fpr, tpr)\n",
    "\n",
    "# plot \n",
    "plt.figure(figsize=(8, 6))\n",
    "plt.plot(fpr, tpr, color='darkorange', lw=2, label=f'AUC = {roc_auc:.2f}')\n",
    "plt.plot([0, 1], [0, 1], color='navy', lw=2, linestyle='--')\n",
    "plt.xlim([0.0, 1.0])\n",
    "plt.ylim([0.0, 1.05])\n",
    "plt.xlabel('False positive rate')\n",
    "plt.ylabel('True positive rate')\n",
    "plt.title('ROC Curve')\n",
    "plt.legend(loc=\"lower right\")\n",
    "plt.show()"
   ],
   "outputs": [
    {
     "data": {
      "text/plain": [
       "<Figure size 800x600 with 1 Axes>"
      ],
      "image/png": "[encoded data removed]"
     },
     "metadata": {},
     "output_type": "display_data"
    }
   ],
   "execution_count": 10
  },
  {
   "cell_type": "markdown",
   "metadata": {},
   "source": [
    "## 5.2. Precision, Recall and F1"
   ]
  },
  {
   "cell_type": "code",
   "metadata": {
    "ExecuteTime": {
     "end_time": "2024-10-11T15:48:50.379552Z",
     "start_time": "2024-10-11T15:48:46.883250Z"
    }
   },
   "source": [
    "# BinaryClassificationEvaluator only suppors AUC and PR, so to calculate these other metrics, need to do it as follows:\n",
    "\n",
    "precision_evaluator = MulticlassClassificationEvaluator(labelCol=\"fraud_bool\", predictionCol=\"prediction\", metricName=\"precisionByLabel\")\n",
    "recall_evaluator = MulticlassClassificationEvaluator(labelCol=\"fraud_bool\", predictionCol=\"prediction\", metricName=\"recallByLabel\")\n",
    "f1_evaluator = MulticlassClassificationEvaluator(labelCol=\"fraud_bool\", predictionCol=\"prediction\", metricName=\"f1\")\n",
    "\n",
    "precision = precision_evaluator.evaluate(predictions)\n",
    "recall = recall_evaluator.evaluate(predictions)\n",
    "f1 = f1_evaluator.evaluate(predictions)\n",
    "\n",
    "print(f\"Precision: {precision}\")\n",
    "print(f\"Recall: {recall}\")\n",
    "print(f\"F1-Score: {f1}\")"
   ],
   "outputs": [
    {
     "name": "stdout",
     "output_type": "stream",
     "text": [
      "Precision: 0.9961715950398309\n",
      "Recall: 0.7801827267679572\n",
      "F1-Score: 0.8659255445386216\n"
     ]
    }
   ],
   "execution_count": 11
  },
  {
   "cell_type": "markdown",
   "metadata": {},
   "source": [
    "## 5.3. Confusion matrix"
   ]
  },
  {
   "cell_type": "code",
   "metadata": {
    "ExecuteTime": {
     "end_time": "2024-10-11T15:48:52.605349Z",
     "start_time": "2024-10-11T15:48:50.399892Z"
    }
   },
   "source": [
    "confusion_matrix = predictions.groupBy(\"fraud_bool\", \"prediction\").count()\n",
    "confusion_matrix_pd = confusion_matrix.toPandas()\n",
    "confusion_matrix_pivot = confusion_matrix_pd.pivot(index='fraud_bool', columns='prediction', values='count').fillna(0) # create the 2D matrix required by Seaborn\n",
    "\n",
    "plt.figure(figsize=(8, 6))\n",
    "sns.heatmap(confusion_matrix_pivot, annot=True, fmt=\"d\", cmap=\"Blues\", cbar=False, \n",
    "            xticklabels=['Predicted 0', 'Predicted 1'], \n",
    "            yticklabels=['Actual 0', 'Actual 1'])\n",
    "plt.title(\"Confusion Matrix\")\n",
    "plt.ylabel(\"True Label\")\n",
    "plt.xlabel(\"Predicted Label\")\n",
    "plt.show()"
   ],
   "outputs": [
    {
     "data": {
      "text/plain": [
       "<Figure size 800x600 with 1 Axes>"
      ],
      "image/png": "[encoded data removed]"
     },
     "metadata": {},
     "output_type": "display_data"
    }
   ],
   "execution_count": 12
  },
  {
   "cell_type": "markdown",
   "metadata": {},
   "source": [
    "## 5.4. Example of predictions"
   ]
  },
  {
   "metadata": {
    "ExecuteTime": {
     "end_time": "2024-10-11T15:48:53.021818Z",
     "start_time": "2024-10-11T15:48:52.624880Z"
    }
   },
   "cell_type": "code",
   "source": "predictions.select(\"fraud_bool\", \"prediction\", \"probability\").show(10, truncate=False)\n",
   "outputs": [
    {
     "name": "stdout",
     "output_type": "stream",
     "text": [
      "+----------+----------+----------------------------------------+\n",
      "|fraud_bool|prediction|probability                             |\n",
      "+----------+----------+----------------------------------------+\n",
      "|0         |0.0       |[0.7772506041827985,0.22274939581720155]|\n",
      "|0         |1.0       |[0.44058941327551415,0.5594105867244858]|\n",
      "|0         |1.0       |[0.21597712685805992,0.7840228731419401]|\n",
      "|0         |1.0       |[0.45706014503535974,0.5429398549646403]|\n",
      "|0         |0.0       |[0.802741131585529,0.19725886841447104] |\n",
      "|0         |0.0       |[0.8529083752963174,0.14709162470368264]|\n",
      "|0         |0.0       |[0.713553890049571,0.28644610995042896] |\n",
      "|0         |0.0       |[0.8091129695285191,0.19088703047148092]|\n",
      "|0         |0.0       |[0.9011170145320033,0.09888298546799668]|\n",
      "|0         |1.0       |[0.3426387647911777,0.6573612352088223] |\n",
      "+----------+----------+----------------------------------------+\n",
      "only showing top 10 rows\n",
      "\n"
     ]
    }
   ],
   "execution_count": 13
  },
  {
   "metadata": {},
   "cell_type": "markdown",
   "source": "# 6. Save results\n"
  },
  {
   "metadata": {},
   "cell_type": "markdown",
   "source": "## 6.1. Prepare keyspace and table"
  },
  {
   "metadata": {
    "ExecuteTime": {
     "end_time": "2024-10-11T15:49:31.845297Z",
     "start_time": "2024-10-11T15:49:30.614019Z"
    }
   },
   "cell_type": "code",
   "outputs": [
    {
     "data": {
      "text/plain": [
       "DataFrame[]"
      ]
     },
     "execution_count": 15,
     "metadata": {},
     "output_type": "execute_result"
    }
   ],
   "execution_count": 15,
   "source": [
    "# NOTE: sample_id is not traceable to the original data. In real scenario, should introduce it earlier and save it in the original data.\n",
    "result_view = predictions.withColumn(\"sample_id\", F.monotonically_increasing_id()) \n",
    "result_view = result_view.select(\"sample_id\", \"fraud_bool\", \"prediction\")\n",
    "# Extract schema from DataFrame\n",
    "schema = result_view.schema\n",
    "\n",
    "# Set up the keyspace and table\n",
    "KEYSPACE = \"results\"\n",
    "TABLE = \"gbt_basic\"\n",
    "\n",
    "# Create column definitions\n",
    "columns = []\n",
    "for field in schema:\n",
    "    if field.dataType.simpleString() == \"vector\":\n",
    "        columns.append(f\"{field.name} frozen<list<double>>\")  # Handling the 'vector' type as 'list<double>'\n",
    "    else:\n",
    "        columns.append(f\"{field.name} {field.dataType.simpleString()}\")\n",
    "\n",
    "columns_str = \", \".join(columns)\n",
    "\n",
    "# Set up the keyspace and table\n",
    "create_keyspace_sql = f\"CREATE DATABASE IF NOT EXISTS {catalog_key}.{KEYSPACE} WITH DBPROPERTIES (class='SimpleStrategy', replication_factor='1')\"\n",
    "spark.sql(create_keyspace_sql)\n",
    "\n",
    "# Define table creation query with PRIMARY KEY and PARTITIONED BY\n",
    "create_table_sql = f\"\"\"\n",
    "CREATE TABLE IF NOT EXISTS {catalog_key}.{KEYSPACE}.{TABLE} (\n",
    "    {columns_str}\n",
    ") PARTITIONED BY (sample_id)\n",
    "\"\"\"\n",
    "# Execute the query\n",
    "spark.sql(create_table_sql)"
   ]
  },
  {
   "metadata": {},
   "cell_type": "markdown",
   "source": "## 6.2. Write results to table"
  },
  {
   "metadata": {
    "ExecuteTime": {
     "end_time": "2024-10-11T15:49:49.465958Z",
     "start_time": "2024-10-11T15:49:44.870481Z"
    }
   },
   "cell_type": "code",
   "source": [
    "# NOTE: Truncate and overwrite settings are only for testing purposes and would not be appropriate in production\n",
    "result_view.write.format(\"org.apache.spark.sql.cassandra\")\\\n",
    "    .options(table=TABLE, keyspace=KEYSPACE)\\\n",
    "    .option(\"confirm.truncate\",\"true\")\\\n",
    "    .mode(\"overwrite\")\\\n",
    "    .save()"
   ],
   "outputs": [],
   "execution_count": 16
  }
 ],
 "metadata": {
  "kernelspec": {
   "display_name": "data_intesive_comp",
   "language": "python",
   "name": "python3"
  },
  "language_info": {
   "codemirror_mode": {
    "name": "ipython",
    "version": 3
   },
   "file_extension": ".py",
   "mimetype": "text/x-python",
   "name": "python",
   "nbconvert_exporter": "python",
   "pygments_lexer": "ipython3",
   "version": "3.12.4"
  }
 },
 "nbformat": 4,
 "nbformat_minor": 2
}
