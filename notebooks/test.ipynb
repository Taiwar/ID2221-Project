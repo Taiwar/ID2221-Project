{
 "cells": [
  {
   "cell_type": "code",
   "execution_count": 6,
   "id": "ce7e549579d75afb",
   "metadata": {
    "jupyter": {
     "is_executing": true
    }
   },
   "outputs": [
    {
     "name": "stdout",
     "output_type": "stream",
     "text": [
      "Hello world\n"
     ]
    }
   ],
   "source": [
    "print(\"Hello world\")"
   ]
  },
  {
   "cell_type": "code",
   "execution_count": 7,
   "id": "initial_id",
   "metadata": {},
   "outputs": [
    {
     "data": {
      "text/html": [
       "\n",
       "            <div>\n",
       "                <p><b>SparkSession - in-memory</b></p>\n",
       "                \n",
       "        <div>\n",
       "            <p><b>SparkContext</b></p>\n",
       "\n",
       "            <p><a href=\"http://269eaee9741d:4040\">Spark UI</a></p>\n",
       "\n",
       "            <dl>\n",
       "              <dt>Version</dt>\n",
       "                <dd><code>v3.5.0</code></dd>\n",
       "              <dt>Master</dt>\n",
       "                <dd><code>local[*]</code></dd>\n",
       "              <dt>AppName</dt>\n",
       "                <dd><code>Jupyter</code></dd>\n",
       "            </dl>\n",
       "        </div>\n",
       "        \n",
       "            </div>\n",
       "        "
      ],
      "text/plain": [
       "<pyspark.sql.session.SparkSession at 0x7f0d12bfe5d0>"
      ]
     },
     "execution_count": 7,
     "metadata": {},
     "output_type": "execute_result"
    }
   ],
   "source": [
    "from pyspark.sql import SparkSession\n",
    "spark = SparkSession.builder\\\n",
    "  .master(\"local[*]\")\\\n",
    "  .appName(\"Jupyter\")\\\n",
    "  .config('spark.driver.port', '20002')\\\n",
    "  .getOrCreate()\n",
    "spark"
   ]
  },
  {
   "cell_type": "markdown",
   "id": "51423fcc7caf22d1",
   "metadata": {},
   "source": [
    "# Writing basic DF to HDFS and reading it back"
   ]
  },
  {
   "cell_type": "code",
   "execution_count": 4,
   "id": "813a1acea4ace5c6",
   "metadata": {
    "ExecuteTime": {
     "end_time": "2024-10-01T10:46:07.353133Z",
     "start_time": "2024-10-01T10:46:06.212390Z"
    }
   },
   "outputs": [
    {
     "data": {
      "text/plain": [
       "DataFrame[a: bigint, b: double, c: string, d: date, e: timestamp]"
      ]
     },
     "execution_count": 4,
     "metadata": {},
     "output_type": "execute_result"
    }
   ],
   "source": [
    "from datetime import datetime, date\n",
    "import pandas as pd\n",
    "from pyspark.sql import Row\n",
    "\n",
    "df = spark.createDataFrame([\n",
    "    Row(a=1, b=2., c='string1', d=date(2000, 1, 1), e=datetime(2000, 1, 1, 12, 0)),\n",
    "    Row(a=2, b=3., c='string2', d=date(2000, 2, 1), e=datetime(2000, 1, 2, 12, 0)),\n",
    "    Row(a=4, b=5., c='string3', d=date(2000, 3, 1), e=datetime(2000, 1, 3, 12, 0))\n",
    "])\n",
    "df"
   ]
  },
  {
   "cell_type": "code",
   "execution_count": 11,
   "id": "6b2902803b2c4344",
   "metadata": {},
   "outputs": [],
   "source": [
    "out_path = \"hdfs://namenode:8020/mycsv.csv\"\n",
    "df.repartition(1).write.mode(\"overwrite\").option(\"header\", \"true\").csv(out_path)"
   ]
  },
  {
   "cell_type": "code",
   "execution_count": 12,
   "id": "7c514559-05dd-4ba8-b96a-468c2fadce0e",
   "metadata": {},
   "outputs": [
    {
     "name": "stdout",
     "output_type": "stream",
     "text": [
      "+---+---+-------+----------+--------------------+\n",
      "|_c0|_c1|    _c2|       _c3|                 _c4|\n",
      "+---+---+-------+----------+--------------------+\n",
      "|  a|  b|      c|         d|                   e|\n",
      "|  1|2.0|string1|2000-01-01|2000-01-01T12:00:...|\n",
      "|  2|3.0|string2|2000-02-01|2000-01-02T12:00:...|\n",
      "|  4|5.0|string3|2000-03-01|2000-01-03T12:00:...|\n",
      "+---+---+-------+----------+--------------------+\n",
      "\n"
     ]
    }
   ],
   "source": [
    "df2 = spark.read.csv(out_path)\n",
    "df2.show()"
   ]
  },
  {
   "cell_type": "markdown",
   "id": "86a8e68cdced5bac",
   "metadata": {},
   "source": [
    "# Reading data locally and writing to HDFS"
   ]
  },
  {
   "cell_type": "code",
   "execution_count": 13,
   "id": "5bed8fc8e36a88ee",
   "metadata": {},
   "outputs": [
    {
     "name": "stdout",
     "output_type": "stream",
     "text": [
      "+---+---+-------+\n",
      "|age| id|   name|\n",
      "+---+---+-------+\n",
      "| 15| 12|Michael|\n",
      "| 30| 15|   Andy|\n",
      "| 19| 20| Justin|\n",
      "| 12| 15|   Andy|\n",
      "| 19| 20|    Jim|\n",
      "| 12| 10|   Andy|\n",
      "+---+---+-------+\n",
      "\n"
     ]
    }
   ],
   "source": [
    "from datetime import datetime, date\n",
    "import pandas as pd\n",
    "from pyspark.sql import Row\n",
    "\n",
    "df3 = spark.read.json(\"work/data/people.json\")\n",
    "df3.show()"
   ]
  },
  {
   "cell_type": "code",
   "execution_count": 14,
   "id": "efb701ef",
   "metadata": {},
   "outputs": [],
   "source": [
    "out_path = \"hdfs://namenode:8020/people.json\"\n",
    "df3.write.mode(\"overwrite\").json(out_path)"
   ]
  },
  {
   "cell_type": "code",
   "execution_count": 15,
   "id": "3043c1cc",
   "metadata": {},
   "outputs": [
    {
     "name": "stdout",
     "output_type": "stream",
     "text": [
      "+---+---+-------+\n",
      "|age| id|   name|\n",
      "+---+---+-------+\n",
      "| 15| 12|Michael|\n",
      "| 30| 15|   Andy|\n",
      "| 19| 20| Justin|\n",
      "| 12| 15|   Andy|\n",
      "| 19| 20|    Jim|\n",
      "| 12| 10|   Andy|\n",
      "+---+---+-------+\n",
      "\n"
     ]
    }
   ],
   "source": [
    "df4 = spark.read.json(out_path)\n",
    "df4.show()"
   ]
  }
 ],
 "metadata": {
  "kernelspec": {
   "display_name": "Python 3 (ipykernel)",
   "language": "python",
   "name": "python3"
  },
  "language_info": {
   "codemirror_mode": {
    "name": "ipython",
    "version": 3
   },
   "file_extension": ".py",
   "mimetype": "text/x-python",
   "name": "python",
   "nbconvert_exporter": "python",
   "pygments_lexer": "ipython3",
   "version": "3.11.6"
  }
 },
 "nbformat": 4,
 "nbformat_minor": 5
}
