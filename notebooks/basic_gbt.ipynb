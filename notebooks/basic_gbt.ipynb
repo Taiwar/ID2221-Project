{
 "cells": [
  {
   "cell_type": "code",
   "execution_count": 1,
   "metadata": {},
   "outputs": [],
   "source": [
    "from pyspark.sql import SparkSession\n",
    "from pyspark.sql import functions as F\n",
    "from pyspark.ml.feature import StringIndexer, OneHotEncoder, VectorAssembler\n",
    "from pyspark.ml.classification import GBTClassifier\n",
    "from pyspark.ml.evaluation import MulticlassClassificationEvaluator\n",
    "from pyspark.ml import Pipeline\n",
    "\n",
    "import matplotlib.pyplot as plt\n",
    "import seaborn as sns\n",
    "from sklearn.metrics import roc_curve, auc\n"
   ]
  },
  {
   "cell_type": "markdown",
   "metadata": {},
   "source": [
    "# 1. Create spark session"
   ]
  },
  {
   "cell_type": "code",
   "execution_count": 2,
   "metadata": {},
   "outputs": [
    {
     "name": "stderr",
     "output_type": "stream",
     "text": [
      "24/10/06 22:01:03 WARN Utils: Your hostname, Rosamelias-MacBook-Pro.local resolves to a loopback address: 127.0.0.1; using 192.168.0.188 instead (on interface en0)\n",
      "24/10/06 22:01:03 WARN Utils: Set SPARK_LOCAL_IP if you need to bind to another address\n",
      "Setting default log level to \"WARN\".\n",
      "To adjust logging level use sc.setLogLevel(newLevel). For SparkR, use setLogLevel(newLevel).\n",
      "24/10/06 22:01:03 WARN NativeCodeLoader: Unable to load native-hadoop library for your platform... using builtin-java classes where applicable\n",
      "24/10/06 22:01:03 WARN Utils: Service 'SparkUI' could not bind on port 4040. Attempting port 4041.\n"
     ]
    }
   ],
   "source": [
    "spark = SparkSession.builder.appName(\"GBTClassifierExample\").getOrCreate()"
   ]
  },
  {
   "cell_type": "markdown",
   "metadata": {},
   "source": [
    "# 2. Read in data"
   ]
  },
  {
   "cell_type": "code",
   "execution_count": 3,
   "metadata": {},
   "outputs": [
    {
     "name": "stderr",
     "output_type": "stream",
     "text": [
      "                                                                                \r"
     ]
    }
   ],
   "source": [
    "df = spark.read.csv(\"data/Base.csv\", header=True, inferSchema=True)"
   ]
  },
  {
   "cell_type": "markdown",
   "metadata": {},
   "source": [
    "# 3. Remove not needed features\n",
    "From EDA we saw that we should remove: 'device_fraud_count'"
   ]
  },
  {
   "cell_type": "code",
   "execution_count": 4,
   "metadata": {},
   "outputs": [],
   "source": [
    "df = df.drop(\"device_fraud_count\")"
   ]
  },
  {
   "cell_type": "markdown",
   "metadata": {},
   "source": [
    "# 3. Address class imbalance"
   ]
  },
  {
   "cell_type": "code",
   "execution_count": 5,
   "metadata": {},
   "outputs": [],
   "source": [
    "# calculate the class distribution\n",
    "fraud_count = df.filter(df.fraud_bool == 1).count()\n",
    "no_fraud_count = df.filter(df.fraud_bool == 0).count()\n",
    "\n",
    "total_count = fraud_count + no_fraud_count\n",
    "fraud_weight = total_count / (2.0 * fraud_count)  # minority class (fraud)\n",
    "legit_weight = total_count / (2.0 * no_fraud_count)  # majority class (legit)\n",
    "\n",
    "# create a weight column\n",
    "df = df.withColumn(\"class_weight\", F.when(df.fraud_bool == 1, fraud_weight).otherwise(legit_weight))\n"
   ]
  },
  {
   "cell_type": "markdown",
   "metadata": {},
   "source": [
    "# 4. One-hot encoding\n",
    "From EDA we already know which features are cat and which ones are num. Now, from the cat, we will only one-hot encode the ones that are not binary. These are: ['payment_type', 'employment_status', 'housing_status', 'source', 'device_os']"
   ]
  },
  {
   "cell_type": "code",
   "execution_count": 6,
   "metadata": {},
   "outputs": [],
   "source": [
    "cat_features = ['payment_type',\n",
    "'employment_status',\n",
    "'housing_status',\n",
    "'source',\n",
    "'device_os',\n",
    "'keep_alive_session',\n",
    "'foreign_request',\n",
    "'has_other_cards',\n",
    "'phone_mobile_valid',\n",
    "'phone_home_valid',\n",
    "'email_is_free',\n",
    "'customer_age']\n",
    "\n",
    "one_hot_features = ['payment_type', \n",
    "'employment_status', \n",
    "'housing_status', \n",
    "'source', \n",
    "'device_os']\n",
    "\n",
    "num_features = ['income',\n",
    "'name_email_similarity',\n",
    "'prev_address_months_count',\n",
    "'current_address_months_count',\n",
    "'days_since_request',\n",
    "'intended_balcon_amount',\n",
    "'zip_count_4w',\n",
    "'velocity_6h',\n",
    "'velocity_24h',\n",
    "'velocity_4w',\n",
    "'bank_branch_count_8w',\n",
    "'date_of_birth_distinct_emails_4w',\n",
    "'credit_risk_score',\n",
    "'bank_months_count',\n",
    "'proposed_credit_limit',\n",
    "'session_length_in_minutes',\n",
    "'device_distinct_emails_8w',\n",
    "'month']"
   ]
  },
  {
   "cell_type": "code",
   "execution_count": 7,
   "metadata": {},
   "outputs": [],
   "source": [
    "indexers = [StringIndexer(inputCol=col, outputCol=col + \"_index\") for col in one_hot_features]\n",
    "encoders = [OneHotEncoder(inputCol=col + \"_index\", outputCol=col + \"_encoded\") for col in one_hot_features]\n",
    "encoded_cols = [col + \"_encoded\" for col in one_hot_features]\n",
    "\n",
    "# assemble all the features into a single feature vector\n",
    "assembler = VectorAssembler(inputCols=num_features + encoded_cols, outputCol=\"features\")\n"
   ]
  },
  {
   "cell_type": "markdown",
   "metadata": {},
   "source": [
    "# 4. Training\n",
    "Define model, split data, create pipeline and fit the model. "
   ]
  },
  {
   "cell_type": "code",
   "execution_count": 8,
   "metadata": {},
   "outputs": [
    {
     "name": "stderr",
     "output_type": "stream",
     "text": [
      "24/10/06 22:01:13 WARN SparkStringUtils: Truncated the string representation of a plan since it was too large. This behavior can be adjusted by setting 'spark.sql.debug.maxToStringFields'.\n",
      "24/10/06 22:01:14 WARN GarbageCollectionMetrics: To enable non-built-in garbage collector(s) List(G1 Concurrent GC), users should configure it(them) to spark.eventLog.gcMetrics.youngGenerationGarbageCollectors or spark.eventLog.gcMetrics.oldGenerationGarbageCollectors\n",
      "24/10/06 22:01:28 WARN MemoryStore: Not enough space to cache rdd_84_7 in memory! (computed 12.5 MiB so far)\n",
      "24/10/06 22:01:28 WARN MemoryStore: Not enough space to cache rdd_84_2 in memory! (computed 8.3 MiB so far)\n",
      "24/10/06 22:01:28 WARN MemoryStore: Not enough space to cache rdd_84_3 in memory! (computed 8.3 MiB so far)\n",
      "24/10/06 22:01:28 WARN BlockManager: Persisting block rdd_84_7 to disk instead.\n",
      "24/10/06 22:01:28 WARN BlockManager: Persisting block rdd_84_3 to disk instead.\n",
      "24/10/06 22:01:28 WARN BlockManager: Persisting block rdd_84_2 to disk instead.\n",
      "24/10/06 22:01:28 WARN MemoryStore: Not enough space to cache rdd_84_6 in memory! (computed 19.2 MiB so far)\n",
      "24/10/06 22:01:28 WARN BlockManager: Persisting block rdd_84_6 to disk instead.\n",
      "24/10/06 22:01:28 WARN MemoryStore: Not enough space to cache rdd_84_0 in memory! (computed 19.2 MiB so far)\n",
      "24/10/06 22:01:28 WARN BlockManager: Persisting block rdd_84_0 to disk instead.\n",
      "                                                                                \r"
     ]
    }
   ],
   "source": [
    "gbt = GBTClassifier(labelCol=\"fraud_bool\", weightCol=\"class_weight\", featuresCol=\"features\", maxIter=10)\n",
    "train_df, test_df = df.randomSplit([0.9, 0.1], seed=42) # same split and seed as in EDA \n",
    "pipeline = Pipeline(stages=indexers + encoders + [assembler, gbt])\n",
    "gbt_model = pipeline.fit(train_df)"
   ]
  },
  {
   "cell_type": "markdown",
   "metadata": {},
   "source": [
    "# 5. Evaluation"
   ]
  },
  {
   "cell_type": "code",
   "execution_count": 9,
   "metadata": {},
   "outputs": [],
   "source": [
    "predictions = gbt_model.transform(test_df)"
   ]
  },
  {
   "cell_type": "markdown",
   "metadata": {},
   "source": [
    "## 5.1. AUC\n"
   ]
  },
  {
   "cell_type": "code",
   "execution_count": 11,
   "metadata": {},
   "outputs": [
    {
     "name": "stderr",
     "output_type": "stream",
     "text": [
      "                                                                                \r"
     ]
    },
    {
     "data": {
      "image/png": "[encoded data removed]",
      "text/plain": [
       "<Figure size 800x600 with 1 Axes>"
      ]
     },
     "metadata": {},
     "output_type": "display_data"
    }
   ],
   "source": [
    "# extract true labels and predicted probabilities\n",
    "predictions_pd = predictions.select(\"fraud_bool\", \"probability\").toPandas()\n",
    "predictions_pd[\"probability_class_1\"] = predictions_pd[\"probability\"].apply(lambda x: x[1])\n",
    "\n",
    "# compute the ROC curve and AUC\n",
    "fpr, tpr, thresholds = roc_curve(predictions_pd[\"fraud_bool\"], predictions_pd[\"probability_class_1\"])\n",
    "roc_auc = auc(fpr, tpr)\n",
    "\n",
    "# plot \n",
    "plt.figure(figsize=(8, 6))\n",
    "plt.plot(fpr, tpr, color='darkorange', lw=2, label=f'AUC = {roc_auc:.2f}')\n",
    "plt.plot([0, 1], [0, 1], color='navy', lw=2, linestyle='--')\n",
    "plt.xlim([0.0, 1.0])\n",
    "plt.ylim([0.0, 1.05])\n",
    "plt.xlabel('False positive rate')\n",
    "plt.ylabel('True positive rate')\n",
    "plt.title('ROC Curve')\n",
    "plt.legend(loc=\"lower right\")\n",
    "plt.show()"
   ]
  },
  {
   "cell_type": "markdown",
   "metadata": {},
   "source": [
    "## 5.2. Precision, Recall and F1"
   ]
  },
  {
   "cell_type": "code",
   "execution_count": 12,
   "metadata": {},
   "outputs": [
    {
     "name": "stderr",
     "output_type": "stream",
     "text": [
      "[Stage 133:>                                                        (0 + 8) / 8]\r"
     ]
    },
    {
     "name": "stdout",
     "output_type": "stream",
     "text": [
      "Precision: 0.996545017146952\n",
      "Recall: 0.7876011326860841\n",
      "F1-Score: 0.8708623599901907\n"
     ]
    },
    {
     "name": "stderr",
     "output_type": "stream",
     "text": [
      "                                                                                \r"
     ]
    }
   ],
   "source": [
    "precision_evaluator = MulticlassClassificationEvaluator(labelCol=\"fraud_bool\", predictionCol=\"prediction\", metricName=\"precisionByLabel\")\n",
    "recall_evaluator = MulticlassClassificationEvaluator(labelCol=\"fraud_bool\", predictionCol=\"prediction\", metricName=\"recallByLabel\")\n",
    "f1_evaluator = MulticlassClassificationEvaluator(labelCol=\"fraud_bool\", predictionCol=\"prediction\", metricName=\"f1\")\n",
    "\n",
    "precision = precision_evaluator.evaluate(predictions)\n",
    "recall = recall_evaluator.evaluate(predictions)\n",
    "f1 = f1_evaluator.evaluate(predictions)\n",
    "\n",
    "print(f\"Precision: {precision}\")\n",
    "print(f\"Recall: {recall}\")\n",
    "print(f\"F1-Score: {f1}\")"
   ]
  },
  {
   "cell_type": "markdown",
   "metadata": {},
   "source": [
    "## 5.3. Confusion matrix"
   ]
  },
  {
   "cell_type": "code",
   "execution_count": 13,
   "metadata": {},
   "outputs": [
    {
     "name": "stderr",
     "output_type": "stream",
     "text": [
      "                                                                                \r"
     ]
    },
    {
     "data": {
      "image/png": "[encoded data removed]",
      "text/plain": [
       "<Figure size 800x600 with 1 Axes>"
      ]
     },
     "metadata": {},
     "output_type": "display_data"
    }
   ],
   "source": [
    "confusion_matrix = predictions.groupBy(\"fraud_bool\", \"prediction\").count()\n",
    "confusion_matrix_pd = confusion_matrix.toPandas()\n",
    "confusion_matrix_pivot = confusion_matrix_pd.pivot(index='fraud_bool', columns='prediction', values='count').fillna(0) # create the 2D matrix required by Seaborn\n",
    "\n",
    "plt.figure(figsize=(8, 6))\n",
    "sns.heatmap(confusion_matrix_pivot, annot=True, fmt=\"d\", cmap=\"Blues\", cbar=False, \n",
    "            xticklabels=['Predicted 0', 'Predicted 1'], \n",
    "            yticklabels=['Actual 0', 'Actual 1'])\n",
    "plt.title(\"Confusion Matrix\")\n",
    "plt.ylabel(\"True Label\")\n",
    "plt.xlabel(\"Predicted Label\")\n",
    "plt.show()"
   ]
  },
  {
   "cell_type": "markdown",
   "metadata": {},
   "source": [
    "## 5.4. Example of predictions"
   ]
  },
  {
   "cell_type": "code",
   "execution_count": 14,
   "metadata": {},
   "outputs": [
    {
     "name": "stdout",
     "output_type": "stream",
     "text": [
      "+----------+----------+----------------------------------------+\n",
      "|fraud_bool|prediction|probability                             |\n",
      "+----------+----------+----------------------------------------+\n",
      "|0         |0.0       |[0.7248986523259914,0.2751013476740086] |\n",
      "|0         |0.0       |[0.7485066636570598,0.25149333634294024]|\n",
      "|0         |0.0       |[0.6808905018951734,0.3191094981048266] |\n",
      "|0         |1.0       |[0.17322271967469885,0.8267772803253012]|\n",
      "|0         |0.0       |[0.6515919300432033,0.34840806995679674]|\n",
      "|0         |1.0       |[0.3384286396623705,0.6615713603376294] |\n",
      "|0         |1.0       |[0.1950142440549285,0.8049857559450715] |\n",
      "|0         |0.0       |[0.691545213716033,0.30845478628396705] |\n",
      "|0         |0.0       |[0.7444232056964253,0.2555767943035747] |\n",
      "|0         |0.0       |[0.8779428213428773,0.12205717865712273]|\n",
      "+----------+----------+----------------------------------------+\n",
      "only showing top 10 rows\n",
      "\n"
     ]
    }
   ],
   "source": [
    "predictions.select(\"fraud_bool\", \"prediction\", \"probability\").show(10, truncate=False)\n"
   ]
  }
 ],
 "metadata": {
  "kernelspec": {
   "display_name": "data_intesive_comp",
   "language": "python",
   "name": "python3"
  },
  "language_info": {
   "codemirror_mode": {
    "name": "ipython",
    "version": 3
   },
   "file_extension": ".py",
   "mimetype": "text/x-python",
   "name": "python",
   "nbconvert_exporter": "python",
   "pygments_lexer": "ipython3",
   "version": "3.12.4"
  }
 },
 "nbformat": 4,
 "nbformat_minor": 2
}
